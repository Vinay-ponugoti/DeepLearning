{
 "cells": [
  {
   "cell_type": "code",
   "execution_count": 1,
   "id": "d21dd71c-666b-492f-941f-9f9e8834d095",
   "metadata": {},
   "outputs": [],
   "source": [
    "import torch\n",
    "import torch.nn as nn\n",
    "import torch.nn.functional as F\n",
    "from torch.utils.data import DataLoader\n",
    "from torchvision import datasets, transforms\n",
    "\n",
    "import numpy as np\n",
    "import pandas as pd\n",
    "import matplotlib.pyplot as plt\n",
    "%matplotlib inline"
   ]
  },
  {
   "cell_type": "code",
   "execution_count": 2,
   "id": "6b436b10-ea6d-4dc3-8284-de8c5885313c",
   "metadata": {},
   "outputs": [],
   "source": [
    "X = torch.linspace(-10,10,200).reshape(-1,1)\n"
   ]
  },
  {
   "cell_type": "code",
   "execution_count": 3,
   "id": "03cc5127-09bd-4a44-ad80-d17a05244c6c",
   "metadata": {},
   "outputs": [],
   "source": [
    "y = np.sign(np.sin(5*np.pi*X))"
   ]
  },
  {
   "cell_type": "code",
   "execution_count": 4,
   "id": "b95f7f7e-9596-4855-9781-3ef1d6360adc",
   "metadata": {},
   "outputs": [],
   "source": [
    "def CalcParams(model):\n",
    "    val = sum(params.numel() for params in model.parameters() if params.requires_grad)\n",
    "    return val"
   ]
  },
  {
   "cell_type": "code",
   "execution_count": 5,
   "id": "50263b7f-bab9-487a-8606-aa356187347b",
   "metadata": {},
   "outputs": [],
   "source": [
    "class Model(nn.Module):\n",
    "    def __init__(self, in_features=1, h1=30, h2=20, out_features=1):\n",
    "        super().__init__()\n",
    "        self.fc1 = nn.Linear(in_features,h1)    \n",
    "        self.fc2 = nn.Linear(h1, h2)\n",
    "        self.fc3 = nn.Linear(h2, out_features)\n",
    "        \n",
    "        \n",
    "    def forward(self, x):\n",
    "        x = F.relu(self.fc1(x))\n",
    "        x = F.relu(self.fc2(x))\n",
    "        x = self.fc3(x)\n",
    "        return x"
   ]
  },
  {
   "cell_type": "code",
   "execution_count": 6,
   "id": "d5287606-56f0-4089-a86c-6a1d739209b9",
   "metadata": {},
   "outputs": [],
   "source": [
    "model=Model()"
   ]
  },
  {
   "cell_type": "code",
   "execution_count": 7,
   "id": "b237f478-de1f-4217-9d25-028184735b62",
   "metadata": {},
   "outputs": [
    {
     "data": {
      "text/plain": [
       "Model(\n",
       "  (fc1): Linear(in_features=1, out_features=30, bias=True)\n",
       "  (fc2): Linear(in_features=30, out_features=20, bias=True)\n",
       "  (fc3): Linear(in_features=20, out_features=1, bias=True)\n",
       ")"
      ]
     },
     "execution_count": 7,
     "metadata": {},
     "output_type": "execute_result"
    }
   ],
   "source": [
    "model"
   ]
  },
  {
   "cell_type": "code",
   "execution_count": 8,
   "id": "7793b1f6-5ac6-4ca8-afe8-08aad82fd858",
   "metadata": {},
   "outputs": [
    {
     "name": "stdout",
     "output_type": "stream",
     "text": [
      "701\n"
     ]
    }
   ],
   "source": [
    "modelparams=CalcParams(model)\n",
    "print(modelparams)"
   ]
  },
  {
   "cell_type": "code",
   "execution_count": 9,
   "id": "77aad6b2-b6f1-4885-8417-d80c86e7bdab",
   "metadata": {},
   "outputs": [],
   "source": [
    "lay1_cons = 1 * 30\n",
    "lay2_cons = 30 * 20\n",
    "lay3_cons = 20 * 1\n",
    "tot_mod_cons = lay1_cons + lay2_cons + lay3_cons"
   ]
  },
  {
   "cell_type": "code",
   "execution_count": 10,
   "id": "70027d81-3742-4058-9f64-ad93d8bad260",
   "metadata": {},
   "outputs": [],
   "source": [
    "crit_loss = nn.CrossEntropyLoss()"
   ]
  },
  {
   "cell_type": "code",
   "execution_count": 11,
   "id": "83e88ad5-1529-44a4-b7de-670d4cc59c69",
   "metadata": {},
   "outputs": [],
   "source": [
    "optim = torch.optim.Adam(model.parameters(), lr=0.001)"
   ]
  },
  {
   "cell_type": "code",
   "execution_count": 12,
   "id": "6d6522f2-7368-4e84-8c3f-cab50591a3f3",
   "metadata": {},
   "outputs": [
    {
     "name": "stderr",
     "output_type": "stream",
     "text": [
      "/home/skomara/.local/lib/python3.9/site-packages/torch/autograd/graph.py:769: UserWarning: CUDA initialization: The NVIDIA driver on your system is too old (found version 11040). Please update your GPU driver by downloading and installing a new version from the URL: http://www.nvidia.com/Download/index.aspx Alternatively, go to: https://pytorch.org to install a PyTorch version that has been compiled with your version of the CUDA driver. (Triggered internally at ../c10/cuda/CUDAFunctions.cpp:108.)\n",
      "  return Variable._execution_engine.run_backward(  # Calls into the C++ engine to run the backward pass\n"
     ]
    }
   ],
   "source": [
    "no_iterations=8\n",
    "epochs = 300\n",
    "epoch_num=round(epochs/3)\n",
    "mod_losses = []\n",
    "c=0\n",
    "lay2_weights_tensor = torch.zeros((no_iterations * epoch_num, lay2_cons))\n",
    "whole_mod_weights_tensor = torch.zeros((no_iterations * epoch_num, tot_mod_cons))\n",
    "loss_tensor = torch.zeros((no_iterations * epoch_num, 1))\n",
    "for train in range(no_iterations):\n",
    "    model=Model()\n",
    "    crit_loss = nn.CrossEntropyLoss()\n",
    "    optim = torch.optim.Adam(model.parameters(), lr=0.001)\n",
    "    for i in range(epochs):\n",
    "        i+=1\n",
    "        # feed forward\n",
    "        y_pred = model.forward(X)\n",
    "        # compute error\n",
    "        trn_loss = crit_loss(y_pred, y)\n",
    "        mod_losses.append(trn_loss)\n",
    "        \n",
    "        optim.zero_grad()\n",
    "        trn_loss.backward()\n",
    "        optim.step()\n",
    "        \n",
    "        # for every 3 epochs, collect weights and loss of the model\n",
    "        if i % 3 == 0:\n",
    "            # collect weights of the model\n",
    "            lay1_weights = torch.reshape(torch.flatten(model.fc1.weight), (1, lay1_cons))\n",
    "            lay2_weights  = torch.reshape(torch.flatten(model.fc2.weight), (1, lay2_cons))\n",
    "            lay3_weights  = torch.reshape(torch.flatten(model.fc3.weight), (1, lay3_cons))\n",
    "            # Combine all layers weights for the whole model\n",
    "            sum_lay1_lay2 = torch.cat((lay2_weights , lay1_weights), dim=1)\n",
    "            whole_mod_weights = torch.cat((sum_lay1_lay2, lay3_weights), dim=1)\n",
    "            # Save weights and loss \n",
    "            whole_mod_weights_tensor[c] = whole_mod_weights\n",
    "            lay2_weights_tensor[c] = lay2_weights\n",
    "            loss_tensor[c] = trn_loss\n",
    "            c += 1\n"
   ]
  },
  {
   "cell_type": "code",
   "execution_count": 13,
   "id": "d22350cd-8852-4da0-a95d-33bbb49f71c6",
   "metadata": {},
   "outputs": [],
   "source": [
    "# Implementation of PCA \n",
    "def PcaImplem(inp_arr, dim_to_ret):\n",
    "    m, n = inp_arr.shape\n",
    "    \n",
    "    means_inp = np.array([np.mean(inp_arr[:, i]) for i in range(n)])\n",
    "    inp_norm = inp_arr - means_inp\n",
    "    \n",
    "    # Calculating egn values and egn vectors\n",
    "    matrix = np.dot(np.transpose(inp_norm),inp_norm)\n",
    "    egn_vals, egn_vctrs = np.linalg.eig(matrix)\n",
    "    pairs = [(np.abs(egn_vals[i]), egn_vctrs[:, i]) for i in range(n)]\n",
    "\n",
    "    # Sorting pairs and return dimensions requested\n",
    "    pairs.sort(key=lambda x: x[0], reverse=True)\n",
    "    feat_from_data = np.array([value[1] for value in pairs[:dim_to_ret]])\n",
    "    red_dim_data = np.dot(inp_norm, np.transpose(feat_from_data))\n",
    "    return red_dim_data"
   ]
  },
  {
   "cell_type": "code",
   "execution_count": 14,
   "id": "cb519da6-3e03-4f5c-9c1a-7766de1f1e02",
   "metadata": {},
   "outputs": [],
   "source": [
    "# Reducing the dimensions using PCA\n",
    "lay2_reduced = lay2_weights_tensor.detach().cpu().numpy()\n",
    "whole_mod_red = whole_mod_weights_tensor.detach().cpu().numpy()\n",
    "loss_vector = loss_tensor.detach().cpu().numpy()\n",
    "lay2_reduced  = PcaImplem(lay2_reduced , 2)\n",
    "whole_mod_red = PcaImplem(whole_mod_red, 2)\n"
   ]
  },
  {
   "cell_type": "code",
   "execution_count": 15,
   "id": "2c760a5e-59b4-46e1-929c-5c8ac7dae39c",
   "metadata": {},
   "outputs": [
    {
     "data": {
      "image/png": "[encoded data removed]",
      "text/plain": [
       "<Figure size 432x288 with 1 Axes>"
      ]
     },
     "metadata": {
      "needs_background": "light"
     },
     "output_type": "display_data"
    }
   ],
   "source": [
    "# Plot optimization of Layer 2 of Neural Network\n",
    "colour_list = ['y*', 'b*', 'g*', 'r*', 'c*', 'b*', 'm*']\n",
    "colour_name_list = [\"yellow\", \"blue\", \"green\", \"red\", \"cyan\", \"black\", 'purple']\n",
    "c = 0\n",
    "clr_cntr = 0\n",
    "for pair in lay2_reduced:\n",
    "    if (c % 10) == 0 and c != 0:\n",
    "        # then change colour\n",
    "        if clr_cntr >= len(colour_list) - 1:\n",
    "            clr_cntr= 0\n",
    "        else:\n",
    "            clr_cntr += 1\n",
    "    plt.plot(pair[0], pair[1], colour_list[clr_cntr])\n",
    "    plt.annotate(str(round(loss_vector[c][0], 2)), (pair[0], pair[1]), color=colour_name_list[clr_cntr])\n",
    "    c += 1\n",
    "plt.title(\"Layer 2's Weights Optimization\") \n",
    "plt.show()"
   ]
  },
  {
   "cell_type": "code",
   "execution_count": 16,
   "id": "8f1faa89-a393-4f77-8817-08d6a04b5c94",
   "metadata": {},
   "outputs": [
    {
     "data": {
      "image/png": "[encoded data removed]",
      "text/plain": [
       "<Figure size 432x288 with 1 Axes>"
      ]
     },
     "metadata": {
      "needs_background": "light"
     },
     "output_type": "display_data"
    }
   ],
   "source": [
    "# Plot optimization of Whole Model of Neural Network\n",
    "c = 0\n",
    "clr_cntr = 0\n",
    "for pair in whole_mod_red:\n",
    "    if (c % 10) == 0 and c != 0:\n",
    "        if clr_cntr >= len(colour_list) - 1:\n",
    "            clr_cntr = 0\n",
    "        else:\n",
    "            clr_cntr += 1\n",
    "    plt.plot(pair[0], pair[1], colour_list[clr_cntr ])\n",
    "    plt.annotate(str(round(loss_vector[c][0], 2)), (pair[0], pair[1]), color=colour_name_list[clr_cntr])\n",
    "    c += 1\n",
    "plt.title(\"Whole Model's Weights Optimization\")\n",
    "plt.show()"
   ]
  },
  {
   "cell_type": "code",
   "execution_count": null,
   "id": "b14b38d1-50a1-4ccc-babd-316dbe32eb29",
   "metadata": {},
   "outputs": [],
   "source": []
  }
 ],
 "metadata": {
  "kernelspec": {
   "display_name": "Python 3 (ipykernel)",
   "language": "python",
   "name": "python3"
  },
  "language_info": {
   "codemirror_mode": {
    "name": "ipython",
    "version": 3
   },
   "file_extension": ".py",
   "mimetype": "text/x-python",
   "name": "python",
   "nbconvert_exporter": "python",
   "pygments_lexer": "ipython3",
   "version": "3.9.12"
  }
 },
 "nbformat": 4,
 "nbformat_minor": 5
}
