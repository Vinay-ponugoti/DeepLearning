{
 "cells": [
  {
   "cell_type": "code",
   "execution_count": 1,
   "id": "710bb896-fe99-4270-be30-8c4141fee119",
   "metadata": {},
   "outputs": [],
   "source": [
    "import numpy as np\n",
    "import torch\n",
    "import torchvision as tv\n",
    "from torchvision import transforms, datasets\n",
    "import torch.nn as nn\n",
    "import torch.nn.functional as F\n",
    "import torch.optim as optim\n",
    "import matplotlib.pyplot as plt\n",
    "%matplotlib inline"
   ]
  },
  {
   "cell_type": "code",
   "execution_count": 2,
   "id": "8f7c8688-d575-45f8-8c64-30b3c1f75eda",
   "metadata": {},
   "outputs": [],
   "source": [
    "sim_in = 20 * torch.rand((1000, 1)) - 10\n",
    "groundTruth = np.cos(sim_in)"
   ]
  },
  {
   "cell_type": "code",
   "execution_count": 3,
   "id": "924c29bb-b742-442f-90d6-099c2d6d7aa4",
   "metadata": {},
   "outputs": [],
   "source": [
    "def calcParams(inputModel):\n",
    "    val = sum(params.numel() for params in inputModel.parameters() if params.requires_grad)\n",
    "    return val"
   ]
  },
  {
   "cell_type": "code",
   "execution_count": 4,
   "id": "f07cfd6a-aa92-4991-8232-a5aa8fbadd1e",
   "metadata": {},
   "outputs": [],
   "source": [
    "# Set up NN for cos(x) training - 2 Hidden Layers, 32 parameters - Shallow Network\n",
    "class OptimizeNN(nn.Module):\n",
    "    def __init__(self):\n",
    "        super().__init__()\n",
    "        self.fc1 = nn.Linear(1, 12)\n",
    "        self.fc2 = nn.Linear(12, 6)\n",
    "        self.fc3 = nn.Linear(6, 1)\n",
    "\n",
    "    def forward(self, val):\n",
    "        val = F.relu(self.fc1(val))\n",
    "        val = F.relu(self.fc2(val))\n",
    "        val = self.fc3(val)\n",
    "        return val"
   ]
  },
  {
   "cell_type": "code",
   "execution_count": 5,
   "id": "e03d6cb5-e7f0-4d37-9937-f0a393be086f",
   "metadata": {},
   "outputs": [],
   "source": [
    "optimNet = OptimizeNN()\n",
    "costFunc = nn.MSELoss()\n",
    "opt = optim.Adam(optimNet.parameters(), lr=0.001)"
   ]
  },
  {
   "cell_type": "code",
   "execution_count": 6,
   "id": "13166b4c-e5f8-4b18-970c-059c95e153eb",
   "metadata": {},
   "outputs": [],
   "source": [
    "def min_ratio(w):\n",
    "    count = 0\n",
    "    total = 0\n",
    "    for x in w:\n",
    "        if(x>0):\n",
    "            count += 1\n",
    "        total +=1\n",
    "    return count/ total"
   ]
  },
  {
   "cell_type": "code",
   "execution_count": 7,
   "id": "63a4263b-b5ae-4e11-a5a2-93e380f135b4",
   "metadata": {},
   "outputs": [],
   "source": [
    "def calculate_grad_norm(model):\n",
    "\n",
    "    grads = []\n",
    "    for p in model.modules():\n",
    "        if isinstance(p, nn.Linear):\n",
    "            param_norm = p.weight.grad.norm(2).item()\n",
    "            grads.append(param_norm)\n",
    "\n",
    "    grad_mean = np.mean(grads) # compute mean of gradient norms\n",
    "    return grad_mean"
   ]
  },
  {
   "cell_type": "code",
   "execution_count": 8,
   "id": "00f6ab61-e67e-4ef0-b912-8a60c8d3830a",
   "metadata": {},
   "outputs": [
    {
     "name": "stderr",
     "output_type": "stream",
     "text": [
      "/home/skomara/.local/lib/python3.9/site-packages/torch/autograd/graph.py:769: UserWarning: CUDA initialization: The NVIDIA driver on your system is too old (found version 11040). Please update your GPU driver by downloading and installing a new version from the URL: http://www.nvidia.com/Download/index.aspx Alternatively, go to: https://pytorch.org to install a PyTorch version that has been compiled with your version of the CUDA driver. (Triggered internally at ../c10/cuda/CUDAFunctions.cpp:108.)\n",
      "  return Variable._execution_engine.run_backward(  # Calls into the C++ engine to run the backward pass\n"
     ]
    }
   ],
   "source": [
    "minRatio = []\n",
    "Loss = []\n",
    "train_count = 100\n",
    "for i in range(train_count):\n",
    "    EPOCHS = 100\n",
    "    lss = 0\n",
    "    # Set up necessary auxilaries for neural net training\n",
    "    optimNet = OptimizeNN()\n",
    "    costFunc = nn.MSELoss()\n",
    "    opt = optim.Adam(optimNet.parameters(), lr=0.001)\n",
    "    for epochIndex in range(EPOCHS):\n",
    "        optimNet.zero_grad()\n",
    "        output = optimNet(sim_in)\n",
    "        cost = costFunc(output, groundTruth)\n",
    "        with torch.no_grad():\n",
    "            lss += (costFunc(output, groundTruth))\n",
    "        cost.backward()\n",
    "        opt.step()\n",
    "    #print(calculate_grad_norm(optimNet))\n",
    "    Loss.append(lss/len(sim_in))\n",
    "    num_param = calcParams(optimNet)\n",
    "    \n",
    "    # Allocate Hessian size\n",
    "    H = torch.zeros((num_param, num_param))\n",
    "\n",
    "    y_hat = optimNet(sim_in)\n",
    "    y = sim_in\n",
    "    loss  = ((y_hat - y)**2).mean()\n",
    "    # Calculate Jacobian w.r.t. model parameters\n",
    "    J = torch.autograd.grad(loss, list(optimNet.parameters()), create_graph=True)\n",
    "    J = torch.cat([e.flatten() for e in J]) # flatten\n",
    "\n",
    "    # Fill in Hessian\n",
    "    num_param = calcParams(optimNet)\n",
    "    for i in range(num_param):\n",
    "        result = torch.autograd.grad(J[i], list(optimNet.parameters()), retain_graph=True)\n",
    "        H[i] = torch.cat([r.flatten() for r in result]) # flatten\n",
    "    w, v = np.linalg.eig(H)\n",
    "    minRatio.append(min_ratio(w))\n",
    "    #print(min_ratio(w))"
   ]
  },
  {
   "cell_type": "code",
   "execution_count": 9,
   "id": "b365c0be-35f8-49e7-9847-2eed804d763f",
   "metadata": {},
   "outputs": [],
   "source": [
    "num_param = calcParams(optimNet)"
   ]
  },
  {
   "cell_type": "code",
   "execution_count": 10,
   "id": "32deb27d-4412-41b9-b3bf-055ef33c00dd",
   "metadata": {},
   "outputs": [],
   "source": [
    "H = torch.zeros((num_param, num_param))\n",
    "\n",
    "y_hat = optimNet(sim_in)\n",
    "y = sim_in\n",
    "loss  = ((y_hat - y)**2).mean()\n",
    "\n",
    "J = torch.autograd.grad(loss, list(optimNet.parameters()), create_graph=True)\n",
    "J = torch.cat([e.flatten() for e in J]) # flatten\n",
    "\n",
    "\n",
    "for i in range(num_param):\n",
    "    result = torch.autograd.grad(J[i], list(optimNet.parameters()), retain_graph=True)\n",
    "    H[i] = torch.cat([r.flatten() for r in result]) # flatten"
   ]
  },
  {
   "cell_type": "code",
   "execution_count": 11,
   "id": "27de7f35-214f-46c7-bd8d-1635ba3f12e2",
   "metadata": {},
   "outputs": [
    {
     "data": {
      "text/plain": [
       "Text(0, 0.5, 'Loss')"
      ]
     },
     "execution_count": 11,
     "metadata": {},
     "output_type": "execute_result"
    },
    {
     "data": {
      "image/png": "[encoded data removed]",
      "text/plain": [
       "<Figure size 432x288 with 1 Axes>"
      ]
     },
     "metadata": {
      "needs_background": "light"
     },
     "output_type": "display_data"
    }
   ],
   "source": [
    "plt.scatter(minRatio, Loss)\n",
    "plt.xlabel('Minimal Ratio')\n",
    "plt.ylabel('Loss')"
   ]
  },
  {
   "cell_type": "code",
   "execution_count": null,
   "id": "a2089801-8c54-40b8-b4b0-8ae7a30725b2",
   "metadata": {},
   "outputs": [],
   "source": []
  }
 ],
 "metadata": {
  "kernelspec": {
   "display_name": "Python 3 (ipykernel)",
   "language": "python",
   "name": "python3"
  },
  "language_info": {
   "codemirror_mode": {
    "name": "ipython",
    "version": 3
   },
   "file_extension": ".py",
   "mimetype": "text/x-python",
   "name": "python",
   "nbconvert_exporter": "python",
   "pygments_lexer": "ipython3",
   "version": "3.9.12"
  }
 },
 "nbformat": 4,
 "nbformat_minor": 5
}
