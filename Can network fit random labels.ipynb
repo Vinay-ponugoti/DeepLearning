{
 "cells": [
  {
   "cell_type": "code",
   "execution_count": 1,
   "id": "b16e2e0c-2c11-4b8b-9ae0-bb219cf60e3c",
   "metadata": {},
   "outputs": [],
   "source": [
    "import torch\n",
    "import torch.nn as nn\n",
    "import torch.nn.functional as F\n",
    "from torch.utils.data import DataLoader\n",
    "from torchvision import datasets, transforms\n",
    "\n",
    "import numpy as np\n",
    "import pandas as pd\n",
    "import matplotlib.pyplot as plt\n",
    "%matplotlib inline"
   ]
  },
  {
   "cell_type": "code",
   "execution_count": 2,
   "id": "bb1451e1-a67b-41ad-a6a9-b79ae4caabb3",
   "metadata": {},
   "outputs": [],
   "source": [
    "transform = transforms.ToTensor()"
   ]
  },
  {
   "cell_type": "code",
   "execution_count": 3,
   "id": "f2ae1aa1-a987-4043-9261-098a8951dabd",
   "metadata": {},
   "outputs": [],
   "source": [
    "train_data_set =datasets.MNIST(root='./data', train=True, download=True, transform=transform)\n",
    "test_data_set = datasets.MNIST(root='./data', train=False, download=True, transform=transform)"
   ]
  },
  {
   "cell_type": "code",
   "execution_count": 4,
   "id": "e80ec325-6568-4a2d-b13b-a01f58d6c5c1",
   "metadata": {},
   "outputs": [
    {
     "data": {
      "text/plain": [
       "Dataset MNIST\n",
       "    Number of datapoints: 10000\n",
       "    Root location: ./data\n",
       "    Split: Test\n",
       "    StandardTransform\n",
       "Transform: ToTensor()"
      ]
     },
     "execution_count": 4,
     "metadata": {},
     "output_type": "execute_result"
    }
   ],
   "source": [
    "test_data_set"
   ]
  },
  {
   "cell_type": "code",
   "execution_count": 5,
   "id": "2a37d6d9-37ef-4cc8-8613-ec4e24e05af5",
   "metadata": {},
   "outputs": [],
   "source": [
    "# Randomly shuffling the labels\n",
    "rand_labels_train = torch.tensor(np.random.randint(0,10, (len(train_data_set)),))\n",
    "train_data_set.targets = rand_labels_train\n",
    "rand_labels_test = torch.tensor(np.random.randint(0,10, (len(test_data_set)),))\n",
    "test_data_set.targets = rand_labels_test"
   ]
  },
  {
   "cell_type": "code",
   "execution_count": 6,
   "id": "3633fbf4-93b6-4d3f-b93f-e5c60c5b4a34",
   "metadata": {},
   "outputs": [],
   "source": [
    "#Data for training and testing\n",
    "train_loader = DataLoader(train_data_set, batch_size=50, shuffle=True)\n",
    "test_loader = DataLoader(test_data_set, batch_size=50, shuffle=True)"
   ]
  },
  {
   "cell_type": "code",
   "execution_count": 7,
   "id": "ecf739ba-ff97-4179-b346-9351b64ef68f",
   "metadata": {},
   "outputs": [],
   "source": [
    "class DNModel(nn.Module):\n",
    "    def __init__(self, inp=784, h1=120, h2=120,h3=16, outp=10):\n",
    "        super().__init__()\n",
    "        self.fc1 = nn.Linear(inp,h1)    \n",
    "        self.fc2 = nn.Linear(h1, h2)\n",
    "        self.fc3 = nn.Linear(h2, h3)\n",
    "        self.out = nn.Linear(h3, outp)\n",
    "        \n",
    "        \n",
    "    def forward(self, x):\n",
    "        x = F.relu(self.fc1(x))\n",
    "        x = F.relu(self.fc2(x))\n",
    "        x = F.relu(self.fc3(x))\n",
    "        x = self.out(x)\n",
    "        return x"
   ]
  },
  {
   "cell_type": "code",
   "execution_count": 8,
   "id": "b98d0dae-49a7-4f7c-a4d9-c7ed470a5690",
   "metadata": {},
   "outputs": [],
   "source": [
    "dn_model=DNModel()"
   ]
  },
  {
   "cell_type": "code",
   "execution_count": 9,
   "id": "9c5ecc3e-48cc-4f3a-8b16-fdbca8f51e9a",
   "metadata": {},
   "outputs": [
    {
     "data": {
      "text/plain": [
       "DNModel(\n",
       "  (fc1): Linear(in_features=784, out_features=120, bias=True)\n",
       "  (fc2): Linear(in_features=120, out_features=120, bias=True)\n",
       "  (fc3): Linear(in_features=120, out_features=16, bias=True)\n",
       "  (out): Linear(in_features=16, out_features=10, bias=True)\n",
       ")"
      ]
     },
     "execution_count": 9,
     "metadata": {},
     "output_type": "execute_result"
    }
   ],
   "source": [
    "dn_model"
   ]
  },
  {
   "cell_type": "code",
   "execution_count": 10,
   "id": "e100601c-53d3-48f4-ab92-2691381ad894",
   "metadata": {},
   "outputs": [],
   "source": [
    "CriterionLoss = nn.CrossEntropyLoss()"
   ]
  },
  {
   "cell_type": "code",
   "execution_count": 11,
   "id": "014c019d-9870-4d6f-bcca-f7d8134a249a",
   "metadata": {},
   "outputs": [],
   "source": [
    "optim = torch.optim.Adam(dn_model.parameters(), lr=0.001)"
   ]
  },
  {
   "cell_type": "code",
   "execution_count": 14,
   "id": "baabcf84-d3aa-45ad-9b2a-a7a17a6a3269",
   "metadata": {},
   "outputs": [],
   "source": [
    "epochs = 30\n",
    "train_losses = []\n",
    "test_losses = []\n",
    "\n",
    "for i in range(epochs):\n",
    "    \n",
    "    #training the batches\n",
    "    for b, (X_train, y_train) in enumerate(train_loader):\n",
    "        \n",
    "        # Applying the model\n",
    "        y_pred = dn_model(X_train.view(50, -1))  # Here we flatten X_train\n",
    "        loss = CriterionLoss(y_pred, y_train)\n",
    " \n",
    "        # Updating the parameters\n",
    "        optim.zero_grad()\n",
    "        loss.backward()\n",
    "        optim.step()\n",
    "        \n",
    "     \n",
    "    # Appending train loss  for the epoch\n",
    "    train_losses.append(loss)\n",
    "        \n",
    "    # testing the batches\n",
    "    with torch.no_grad():\n",
    "        for b, (X_test, y_test) in enumerate(test_loader):\n",
    "\n",
    "            # Applying  the model\n",
    "            y_val = dn_model(X_test.view(50, -1)) \n",
    "    \n",
    "    # Appending test loss for the epoch\n",
    "    loss = CriterionLoss(y_val, y_test)\n",
    "    test_losses.append(loss)\n",
    "    "
   ]
  },
  {
   "cell_type": "code",
   "execution_count": 16,
   "id": "32fbdd39-8595-4b02-b835-c93450a8bea3",
   "metadata": {},
   "outputs": [],
   "source": [
    "train_losses=torch.tensor(train_losses)\n",
    "test_losses=torch.tensor(test_losses)"
   ]
  },
  {
   "cell_type": "code",
   "execution_count": 18,
   "id": "b9a302e6-7f20-4594-8d2a-ea0b33308d7d",
   "metadata": {},
   "outputs": [
    {
     "data": {
      "image/png": "[encoded data removed]",
      "text/plain": [
       "<Figure size 432x288 with 1 Axes>"
      ]
     },
     "metadata": {
      "needs_background": "light"
     },
     "output_type": "display_data"
    }
   ],
   "source": [
    "# Convert the lists to Python lists (if they are not already)\n",
    "train_losses_mod1 = [loss for loss in train_losses]  # This should be a list of floats now\n",
    "test_losses_mod1 = [loss for loss in test_losses]    # This should be a list of floats now\n",
    "\n",
    "# Plot the training and testing losses\n",
    "plt.plot(range(epochs), train_losses_mod1, 'r', label='Train')\n",
    "plt.plot(range(epochs), test_losses_mod1, 'b', label='Test')\n",
    "plt.title(\"Loss\")\n",
    "plt.xlabel(\"Epochs\")\n",
    "plt.ylabel(\"Loss\")\n",
    "plt.legend()\n",
    "plt.show()\n"
   ]
  },
  {
   "cell_type": "code",
   "execution_count": null,
   "id": "25ef3ad2-353e-4b4e-860c-23fca85d72fe",
   "metadata": {},
   "outputs": [],
   "source": []
  }
 ],
 "metadata": {
  "kernelspec": {
   "display_name": "Python 3 (ipykernel)",
   "language": "python",
   "name": "python3"
  },
  "language_info": {
   "codemirror_mode": {
    "name": "ipython",
    "version": 3
   },
   "file_extension": ".py",
   "mimetype": "text/x-python",
   "name": "python",
   "nbconvert_exporter": "python",
   "pygments_lexer": "ipython3",
   "version": "3.9.12"
  }
 },
 "nbformat": 4,
 "nbformat_minor": 5
}
